{
 "cells": [
  {
   "cell_type": "markdown",
   "id": "50dd98d9-ec64-4eae-a55e-38ab92726333",
   "metadata": {},
   "source": [
    "Q1.Create a vehicle class with an init method having instance variables as name_of_vehicle, max_speed, average_of_vehicle."
   ]
  },
  {
   "cell_type": "code",
   "execution_count": 49,
   "id": "e7fe9e1b-08be-40c3-9e73-da8c99058938",
   "metadata": {},
   "outputs": [],
   "source": [
    "class vehicle:\n",
    "    def __init__(self,name_of_vehicle,max_speed,average_of_vehicle):\n",
    "        self.name_of_vehicle=name_of_vehicle\n",
    "        self.max_speed=max_speed\n",
    "        self.average_of_vehicle=average_of_vehicle\n",
    "    def show_details(self):\n",
    "        print(f'{self.name_of_vehicle}\\n{self.max_speed}\\n{self.average_of_vehicle}')"
   ]
  },
  {
   "cell_type": "code",
   "execution_count": 50,
   "id": "f0e87b80-f40a-47e3-ad59-736303d554de",
   "metadata": {},
   "outputs": [
    {
     "name": "stdout",
     "output_type": "stream",
     "text": [
      "Splender\n",
      "110\n",
      "50\n"
     ]
    }
   ],
   "source": [
    "bike=vehicle('Splender',110,50)\n",
    "bike.show_details()"
   ]
  },
  {
   "cell_type": "markdown",
   "id": "0adff612-c8ea-4c46-a6de-ac53a3af1ea2",
   "metadata": {},
   "source": [
    "Q2. Create a child class car from the vehicle class created in Que 1, which will inherit the vehicle class.\r\n",
    "Create a method named seating_capacity which takes capacity as an argument and returns the name of\r\n",
    "the vehicle and its seating capacity."
   ]
  },
  {
   "cell_type": "code",
   "execution_count": 51,
   "id": "5e714f7b-0de8-4269-b43b-7a604dd8cb5b",
   "metadata": {},
   "outputs": [],
   "source": [
    "class car(vehicle):\n",
    "    def seating_capacity(self,c):        \n",
    "        return print(f'Seating capacity is:{c}\\nName of the car is:{self.name_of_vehicle}')"
   ]
  },
  {
   "cell_type": "code",
   "execution_count": 52,
   "id": "8ce9991a-f34f-42fc-98c2-36e249328dbb",
   "metadata": {},
   "outputs": [
    {
     "name": "stdout",
     "output_type": "stream",
     "text": [
      "Seating capacity is:4\n",
      "Name of the car is:Aulto\n"
     ]
    }
   ],
   "source": [
    "Aulto=car('Aulto',150,45)\n",
    "Aulto.seating_capacity(4)"
   ]
  },
  {
   "cell_type": "markdown",
   "id": "7352e071-b633-4373-b8d7-11678654695e",
   "metadata": {},
   "source": [
    "Q3. What is multiple inheritance? Write a python code to demonstrate multiple inheritance."
   ]
  },
  {
   "cell_type": "markdown",
   "id": "da3156d9-7dcc-4528-b152-9c722822585a",
   "metadata": {},
   "source": [
    "Multiple inheritance in Python refers to a situation where a class inherits attributes and methods from more than one base class. This means that a derived class can inherit from multiple parent classes. While Python supports multiple inheritance, it's important to use it judiciously, as it can lead to complexity and potential issues such as the diamond problem.\r\n",
    "\r\n",
    "The diamond problem occurs when a class inherits from two classes that have a common ancestor. If both parent classes provide an implementation for the same method, and the child class doesn't override it, it can be ambiguous which method should be called.\r\n",
    "\r\n",
    "Here's a simple example to demonstrate multiple inheritance in Python:"
   ]
  },
  {
   "cell_type": "code",
   "execution_count": 53,
   "id": "54d0753a-1d49-47b9-907c-2884d6649e93",
   "metadata": {},
   "outputs": [],
   "source": [
    "class vehicle:\n",
    "    def __init__(self,name_of_vehicle,max_speed,average_of_vehicle):\n",
    "        self.name_of_vehicle=name_of_vehicle\n",
    "        self.max_speed=max_speed\n",
    "        self.average_of_vehicle=average_of_vehicle\n",
    "    def show_details(self):\n",
    "        print(f'{self.name_of_vehicle}\\n{self.max_speed}\\n{self.average_of_vehicle}')\n",
    "\n",
    "class car(vehicle):\n",
    "    def seating_capacity(self,c):        \n",
    "        return print(f'Seating capacity is:{c}\\nName of the car is:{self.name_of_vehicle}')        \n",
    "class Royal_cars(car):\n",
    "    def cars_all_features(self):\n",
    "        return print(f'Name of the car:{self.name_of_vehicle}\\nSpeed:{self.max_speed}\\nAverage:{self.average_of_vehicle}')"
   ]
  },
  {
   "cell_type": "code",
   "execution_count": 54,
   "id": "9b10c83c-6d6f-4bf3-8d57-662b9958d6b0",
   "metadata": {},
   "outputs": [
    {
     "name": "stdout",
     "output_type": "stream",
     "text": [
      "Name of the car:Range Rover\n",
      "Speed:220\n",
      "Average:60\n"
     ]
    }
   ],
   "source": [
    "Range_Rover=Royal_cars(\"Range Rover\",220,60)\n",
    "Range_Rover.cars_all_features()"
   ]
  },
  {
   "cell_type": "markdown",
   "id": "bb506085-fd3b-456e-b35c-f38257ed66a6",
   "metadata": {},
   "source": [
    "Q4. What are getter and setter in python? Create a class and create a getter and a setter method in this\r\n",
    "class."
   ]
  },
  {
   "cell_type": "code",
   "execution_count": 55,
   "id": "6f773053-c0ca-4852-bd71-1295872a92db",
   "metadata": {},
   "outputs": [],
   "source": [
    "class bank:\n",
    "    def __init__(self,name,acco_no,balance):\n",
    "        self.name=name\n",
    "        self.acco_no=acco_no\n",
    "        self._balance=balance\n",
    "\n",
    "    @property\n",
    "    def get_balance(self):\n",
    "        return self._balance\n",
    "    \n",
    "    @get_balance.setter\n",
    "    def set_balance(self ,value):\n",
    "        self._balance= value\n",
    "        \n",
    "    @get_balance.deleter\n",
    "    def del_balance(self):\n",
    "        del self._balance"
   ]
  },
  {
   "cell_type": "code",
   "execution_count": 56,
   "id": "c47f3a9a-caa7-4486-92d6-3dac445854ca",
   "metadata": {},
   "outputs": [
    {
     "data": {
      "text/plain": [
       "921295699"
      ]
     },
     "execution_count": 56,
     "metadata": {},
     "output_type": "execute_result"
    }
   ],
   "source": [
    "#get\n",
    "SBI=bank(\"Shyam\",199479929752,921295699)\n",
    "SBI.get_balance"
   ]
  },
  {
   "cell_type": "code",
   "execution_count": 57,
   "id": "8ce4573e-93d0-4e5e-b655-3e29ece9903b",
   "metadata": {},
   "outputs": [
    {
     "data": {
      "text/plain": [
       "100000000"
      ]
     },
     "execution_count": 57,
     "metadata": {},
     "output_type": "execute_result"
    }
   ],
   "source": [
    "# set\n",
    "SBI.set_balance=100000000\n",
    "SBI.get_balance"
   ]
  },
  {
   "cell_type": "markdown",
   "id": "84028c63-2be3-467c-bba6-64551d7907df",
   "metadata": {},
   "source": [
    "Q5.What is method overriding in python? Write a python code to demonstrate method overriding."
   ]
  },
  {
   "cell_type": "code",
   "execution_count": 58,
   "id": "0c206f06-60c2-4cea-b972-3bfda9a3c468",
   "metadata": {},
   "outputs": [],
   "source": [
    "class Animal:\n",
    "    def function(self):\n",
    "        return print(\"Animal ia a living being\")\n",
    "class lion(Animal):\n",
    "    def function(self):\n",
    "        return print(\"Lion is also living being ,Belonging to cat family \")"
   ]
  },
  {
   "cell_type": "code",
   "execution_count": 59,
   "id": "66505853-ac8f-4b9b-a50e-d28475ace156",
   "metadata": {},
   "outputs": [
    {
     "name": "stdout",
     "output_type": "stream",
     "text": [
      "Lion is also living being ,Belonging to cat family \n"
     ]
    }
   ],
   "source": [
    "dora=lion()\n",
    "dora.function()\n",
    "# Hence child class fcat is overriding the Animal class having same funtions "
   ]
  },
  {
   "cell_type": "code",
   "execution_count": null,
   "id": "564b03cf-883d-4d07-baf0-9aa05caebf4d",
   "metadata": {},
   "outputs": [],
   "source": []
  }
 ],
 "metadata": {
  "kernelspec": {
   "display_name": "Python 3 (ipykernel)",
   "language": "python",
   "name": "python3"
  },
  "language_info": {
   "codemirror_mode": {
    "name": "ipython",
    "version": 3
   },
   "file_extension": ".py",
   "mimetype": "text/x-python",
   "name": "python",
   "nbconvert_exporter": "python",
   "pygments_lexer": "ipython3",
   "version": "3.11.4"
  }
 },
 "nbformat": 4,
 "nbformat_minor": 5
}
